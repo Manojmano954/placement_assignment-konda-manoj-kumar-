{
  "nbformat": 4,
  "nbformat_minor": 0,
  "metadata": {
    "colab": {
      "provenance": []
    },
    "kernelspec": {
      "name": "python3",
      "display_name": "Python 3"
    },
    "language_info": {
      "name": "python"
    }
  },
  "cells": [
    {
      "cell_type": "code",
      "source": [
        "def string(name):\n",
        "  \n",
        "    freq = {}\n",
        "    for char in name:\n",
        "        freq[char] = freq.get(char, 0) + 1\n",
        "\n",
        "    values = list(freq.values())\n",
        "    if len(set(values)) == 1:\n",
        "        return \"YES\"\n",
        "    else:\n",
        "      return \"NO\"    \n",
        "\n",
        "    for key in freq:\n",
        "        freq[key] -= 1\n",
        "        values = list(freq.values())\n",
        "        if len(set(values)) == 1:\n",
        "            return \"YES\"\n",
        "        freq[key] += 1\n",
        "    return \"NO\"\n",
        "print(string(\"abc\"))\n",
        "print(string(\"abcc\"))"
      ],
      "metadata": {
        "colab": {
          "base_uri": "https://localhost:8080/"
        },
        "id": "6kTLeLyj4YKL",
        "outputId": "e29bc2ce-1feb-4438-a95a-05ab175872a8"
      },
      "execution_count": 11,
      "outputs": [
        {
          "output_type": "stream",
          "name": "stdout",
          "text": [
            "YES\n",
            "NO\n"
          ]
        }
      ]
    },
    {
      "cell_type": "code",
      "source": [],
      "metadata": {
        "id": "8KgLffr763gT"
      },
      "execution_count": null,
      "outputs": []
    }
  ]
}