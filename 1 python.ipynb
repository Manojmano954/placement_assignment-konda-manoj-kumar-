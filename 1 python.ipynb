{
  "nbformat": 4,
  "nbformat_minor": 0,
  "metadata": {
    "colab": {
      "provenance": []
    },
    "kernelspec": {
      "name": "python3",
      "display_name": "Python 3"
    },
    "language_info": {
      "name": "python"
    }
  },
  "cells": [
    {
      "cell_type": "code",
      "source": [
        "def main(string):\n",
        "    words = string.split()\n",
        "    freq = {}\n",
        "\n",
        "    for word in words:\n",
        "        if word in freq:\n",
        "            freq[word] += 1\n",
        "        else:\n",
        "            freq[word] = 1\n",
        "\n",
        "    highest_freq = 0\n",
        "    for frequency in freq.values():\n",
        "        if frequency > highest_freq:\n",
        "            highest_freq = frequency\n",
        "\n",
        "    highest_freq_word_length = 0\n",
        "    for word, frequency in freq.items():\n",
        "        if frequency == highest_freq and len(word) > highest_freq_word_length:\n",
        "            highest_freq_word_length = len(word)\n",
        "\n",
        "    return highest_freq_word_length\n",
        "\n",
        "string1 = \"write write write all the number from from from 1 to 100\"\n",
        "print(main(string1))\n",
        "\n",
        "string2 = \"the quick brown fox jumps over the lazy dog\"\n",
        "print(main(string2))\n",
        "\n",
        "string3 = \"apple apple apple orange orange\"\n",
        "print(main(string3)) "
      ],
      "metadata": {
        "colab": {
          "base_uri": "https://localhost:8080/"
        },
        "id": "xIDm8C8PyiuB",
        "outputId": "a6cd31b9-486b-4e9e-9e27-0a32a3ea118d"
      },
      "execution_count": 4,
      "outputs": [
        {
          "output_type": "stream",
          "name": "stdout",
          "text": [
            "5\n",
            "3\n",
            "5\n"
          ]
        }
      ]
    }
  ]
}